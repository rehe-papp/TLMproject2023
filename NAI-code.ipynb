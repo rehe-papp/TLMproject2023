{
 "cells": [
  {
   "cell_type": "code",
   "execution_count": 1,
   "id": "d937ae00",
   "metadata": {},
   "outputs": [],
   "source": [
    "import pandas as pd\n",
    "csv_file_path = \"prompt_0_data.csv\"\n",
    "df = pd.read_csv(csv_file_path)"
   ]
  },
  {
   "cell_type": "code",
   "execution_count": 2,
   "id": "3853e113",
   "metadata": {},
   "outputs": [
    {
     "data": {
      "text/html": [
       "<div>\n",
       "<style scoped>\n",
       "    .dataframe tbody tr th:only-of-type {\n",
       "        vertical-align: middle;\n",
       "    }\n",
       "\n",
       "    .dataframe tbody tr th {\n",
       "        vertical-align: top;\n",
       "    }\n",
       "\n",
       "    .dataframe thead th {\n",
       "        text-align: right;\n",
       "    }\n",
       "</style>\n",
       "<table border=\"1\" class=\"dataframe\">\n",
       "  <thead>\n",
       "    <tr style=\"text-align: right;\">\n",
       "      <th></th>\n",
       "      <th>Cues</th>\n",
       "      <th>Targets</th>\n",
       "      <th>Sample Size</th>\n",
       "      <th>Count</th>\n",
       "    </tr>\n",
       "  </thead>\n",
       "  <tbody>\n",
       "    <tr>\n",
       "      <th>0</th>\n",
       "      <td>CREW</td>\n",
       "      <td>TEAM</td>\n",
       "      <td>198</td>\n",
       "      <td>188</td>\n",
       "    </tr>\n",
       "    <tr>\n",
       "      <th>1</th>\n",
       "      <td>PIGMENT</td>\n",
       "      <td>COLOR</td>\n",
       "      <td>197</td>\n",
       "      <td>197</td>\n",
       "    </tr>\n",
       "    <tr>\n",
       "      <th>2</th>\n",
       "      <td>INVENT</td>\n",
       "      <td>INNOVATION</td>\n",
       "      <td>197</td>\n",
       "      <td>192</td>\n",
       "    </tr>\n",
       "    <tr>\n",
       "      <th>3</th>\n",
       "      <td>LEVER</td>\n",
       "      <td>MECHANICAL</td>\n",
       "      <td>197</td>\n",
       "      <td>9</td>\n",
       "    </tr>\n",
       "    <tr>\n",
       "      <th>4</th>\n",
       "      <td>RELIABLE</td>\n",
       "      <td>DEPENDABLE</td>\n",
       "      <td>197</td>\n",
       "      <td>31</td>\n",
       "    </tr>\n",
       "  </tbody>\n",
       "</table>\n",
       "</div>"
      ],
      "text/plain": [
       "       Cues     Targets  Sample Size  Count\n",
       "0      CREW        TEAM          198    188\n",
       "1   PIGMENT       COLOR          197    197\n",
       "2    INVENT  INNOVATION          197    192\n",
       "3     LEVER  MECHANICAL          197      9\n",
       "4  RELIABLE  DEPENDABLE          197     31"
      ]
     },
     "execution_count": 2,
     "metadata": {},
     "output_type": "execute_result"
    }
   ],
   "source": [
    "df.head()"
   ]
  },
  {
   "cell_type": "code",
   "execution_count": 3,
   "id": "f2fa9138",
   "metadata": {},
   "outputs": [
    {
     "name": "stdout",
     "output_type": "stream",
     "text": [
      "539\n"
     ]
    }
   ],
   "source": [
    "print(df['Cues'].count())\n"
   ]
  },
  {
   "cell_type": "code",
   "execution_count": 4,
   "id": "224f70a6",
   "metadata": {},
   "outputs": [
    {
     "name": "stdout",
     "output_type": "stream",
     "text": [
      "Top 10 Cues:\n",
      "    Cues  Count\n",
      "     FIN     20\n",
      "GRADUATE     19\n",
      "    PRIM     17\n",
      " EYEBALL     15\n",
      "   FLUSH     14\n",
      "ASTEROID     13\n",
      " PLAYING     12\n",
      "  RECIPE     12\n",
      " BAPTIST     11\n",
      "   ANGLE     10\n"
     ]
    }
   ],
   "source": [
    "cues_counts = df['Cues'].value_counts().head(10)\n",
    "#print(cues_counts)\n",
    "\n",
    "top_10_df = pd.DataFrame({'Cues': cues_counts.index, 'Count': cues_counts.values})\n",
    "\n",
    "print(\"Top 10 Cues:\")\n",
    "print(top_10_df.to_string(index=False))"
   ]
  },
  {
   "cell_type": "code",
   "execution_count": 38,
   "id": "1daab103",
   "metadata": {},
   "outputs": [],
   "source": [
    "fin = df['Cues'] == 'FIN'\n",
    "filtered_df = df[fin]\n",
    "#print(filtered_df)"
   ]
  },
  {
   "cell_type": "code",
   "execution_count": 6,
   "id": "8559958f",
   "metadata": {},
   "outputs": [],
   "source": [
    "csv_file_path_org = \"cue_dataset.csv\"\n",
    "df_org = pd.read_csv(csv_file_path_org)"
   ]
  },
  {
   "cell_type": "code",
   "execution_count": 7,
   "id": "68c10c1a",
   "metadata": {},
   "outputs": [
    {
     "name": "stdout",
     "output_type": "stream",
     "text": [
      "Top 10 Cues:\n",
      "      Cues  Count\n",
      " IMPORTANT     25\n",
      "   FACTORY     24\n",
      "    ASSUME     23\n",
      "      BOND     23\n",
      "   ABILITY     22\n",
      "  ACTIVITY     22\n",
      "     STRAP     22\n",
      " DANGEROUS     22\n",
      " INSURANCE     21\n",
      "FRIENDSHIP     21\n"
     ]
    }
   ],
   "source": [
    "cues_counts_org = df_org['Cues'].value_counts().head(10)\n",
    "#print(cues_counts_org)\n",
    "top_10_org = pd.DataFrame({'Cues': cues_counts_org.index, 'Count': cues_counts_org.values})\n",
    "\n",
    "print(\"Top 10 Cues:\")\n",
    "print(top_10_org.to_string(index=False))"
   ]
  },
  {
   "cell_type": "code",
   "execution_count": 52,
   "id": "7c350bc4",
   "metadata": {},
   "outputs": [
    {
     "name": "stdout",
     "output_type": "stream",
     "text": [
      "Cues      Targets  Count\n",
      "BOND        JAMES   17.0\n",
      "BOND     TOGETHER   16.0\n",
      "BOND   FRIENDSHIP   14.0\n",
      "BOND         GLUE    8.0\n",
      "BOND        UNITE    5.0\n",
      "BOND RELATIONSHIP    5.0\n",
      "BOND        STOCK    4.0\n",
      "BOND        MONEY    4.0\n",
      "BOND         JOIN    4.0\n",
      "BOND         LOVE    4.0\n",
      "BOND          TIE    3.0\n",
      "BOND         BAIL    3.0\n",
      "BOND        IONIC    2.0\n",
      "BOND        CHAIN    2.0\n",
      "BOND         MALE    2.0\n",
      "BOND     MARRIAGE    2.0\n",
      "BOND       FAMILY    2.0\n",
      "BOND       COMMON    2.0\n",
      "BOND          SEX    2.0\n",
      "BOND       SISTER    2.0\n",
      "BOND        STICK    2.0\n",
      "BOND      COMBINE    2.0\n",
      "BOND     CHEMICAL    2.0\n"
     ]
    }
   ],
   "source": [
    "csv_file_path_org = \"cue_dataset.csv\"\n",
    "df_org = pd.read_csv(csv_file_path_org)\n",
    "bond_df = df_org[df_org['Cues'] == 'BOND']\n",
    "bond_filtered = bond_df[['Cues', 'Targets', '# Subjects Producing Target ']]\n",
    "bond_filtered = bond_filtered.rename(columns={'# Subjects Producing Target ': 'Count'})\n",
    "bond_filtered_sorted = bond_filtered.sort_values(by='Count', ascending=False)\n",
    "\n",
    "print(bond_filtered_sorted.to_string(index=False))\n"
   ]
  },
  {
   "cell_type": "code",
   "execution_count": 57,
   "id": "800fef82",
   "metadata": {},
   "outputs": [
    {
     "name": "stdout",
     "output_type": "stream",
     "text": [
      "    Cues         Targets  Count\n",
      "ACTIVITY           SPORT   19.0\n",
      "ACTIVITY             FUN   19.0\n",
      "ACTIVITY            BUSY   12.0\n",
      "ACTIVITY            GAME    8.0\n",
      "ACTIVITY            WORK    6.0\n",
      "ACTIVITY             RUN    6.0\n",
      "ACTIVITY          ENERGY    5.0\n",
      "ACTIVITY      BASKETBALL    4.0\n",
      "ACTIVITY        MOVEMENT    4.0\n",
      "ACTIVITY            LAZY    4.0\n",
      "ACTIVITY EXTRACURRICULAR    3.0\n",
      "ACTIVITY            PLAY    3.0\n",
      "ACTIVITY             SEX    3.0\n",
      "ACTIVITY          ACTIVE    3.0\n",
      "ACTIVITY             JOB    2.0\n",
      "ACTIVITY           HOBBY    2.0\n",
      "ACTIVITY        EXERCISE    2.0\n",
      "ACTIVITY          SCHOOL    2.0\n",
      "ACTIVITY           EVENT    2.0\n",
      "ACTIVITY          TENNIS    2.0\n",
      "ACTIVITY           TIRED    2.0\n",
      "ACTIVITY      VOLLEYBALL    2.0\n"
     ]
    }
   ],
   "source": [
    "csv_file_path_org = \"cue_dataset.csv\"\n",
    "df_org = pd.read_csv(csv_file_path_org)\n",
    "bond_df = df_org[df_org['Cues'] == 'ACTIVITY']\n",
    "bond_filtered = bond_df[['Cues', 'Targets', '# Subjects Producing Target ']]\n",
    "bond_filtered = bond_filtered.rename(columns={'# Subjects Producing Target ': 'Count'})\n",
    "bond_filtered_sorted = bond_filtered.sort_values(by='Count', ascending=False)\n",
    "\n",
    "print(bond_filtered_sorted.to_string(index=False))\n"
   ]
  },
  {
   "cell_type": "code",
   "execution_count": 60,
   "id": "dc0774ab",
   "metadata": {},
   "outputs": [
    {
     "name": "stdout",
     "output_type": "stream",
     "text": [
      "      Cues   Targets  Count\n",
      "FRIENDSHIP      LOVE   24.0\n",
      "FRIENDSHIP    FRIEND   13.0\n",
      "FRIENDSHIP   FOREVER    9.0\n",
      "FRIENDSHIP     TRUST    8.0\n",
      "FRIENDSHIP     ENEMY    8.0\n",
      "FRIENDSHIP     CLOSE    7.0\n",
      "FRIENDSHIP     BUDDY    5.0\n",
      "FRIENDSHIP   LASTING    5.0\n",
      "FRIENDSHIP  TOGETHER    4.0\n",
      "FRIENDSHIP      BOND    3.0\n",
      "FRIENDSHIP HAPPINESS    3.0\n",
      "FRIENDSHIP   SPECIAL    3.0\n",
      "FRIENDSHIP      RING    2.0\n",
      "FRIENDSHIP     UNITY    2.0\n",
      "FRIENDSHIP IMPORTANT    2.0\n",
      "FRIENDSHIP    PEOPLE    2.0\n",
      "FRIENDSHIP      NICE    2.0\n",
      "FRIENDSHIP  FRIENDLY    2.0\n",
      "FRIENDSHIP COMPANION    2.0\n",
      "FRIENDSHIP    CARING    2.0\n",
      "FRIENDSHIP    WARMTH    2.0\n"
     ]
    }
   ],
   "source": [
    "csv_file_path_org = \"cue_dataset.csv\"\n",
    "df_org = pd.read_csv(csv_file_path_org)\n",
    "bond_df = df_org[df_org['Cues'] == 'FRIENDSHIP']\n",
    "bond_filtered = bond_df[['Cues', 'Targets', '# Subjects Producing Target ']]\n",
    "bond_filtered = bond_filtered.rename(columns={'# Subjects Producing Target ': 'Count'})\n",
    "bond_filtered_sorted = bond_filtered.sort_values(by='Count', ascending=False)\n",
    "\n",
    "print(bond_filtered_sorted.to_string(index=False))\n"
   ]
  },
  {
   "cell_type": "code",
   "execution_count": 63,
   "id": "df8eb2bf",
   "metadata": {},
   "outputs": [
    {
     "name": "stdout",
     "output_type": "stream",
     "text": [
      "     Cues     Targets  Count\n",
      "IMPORTANT      URGENT   14.0\n",
      "IMPORTANT UNIMPORTANT    7.0\n",
      "IMPORTANT    PRIORITY    6.0\n",
      "IMPORTANT SIGNIFICANT    6.0\n",
      "IMPORTANT     SERIOUS    6.0\n",
      "IMPORTANT INFORMATION    5.0\n",
      "IMPORTANT   NECESSARY    5.0\n",
      "IMPORTANT     TRIVIAL    5.0\n",
      "IMPORTANT       MAJOR    4.0\n",
      "IMPORTANT      SCHOOL    4.0\n",
      "IMPORTANT       VITAL    4.0\n",
      "IMPORTANT  IMPERATIVE    3.0\n",
      "IMPORTANT     MESSAGE    3.0\n",
      "IMPORTANT     CRUCIAL    3.0\n",
      "IMPORTANT     SPECIAL    3.0\n",
      "IMPORTANT       VALID    2.0\n",
      "IMPORTANT    VALUABLE    2.0\n",
      "IMPORTANT   ATTENTION    2.0\n",
      "IMPORTANT    POWERFUL    2.0\n",
      "IMPORTANT      NOTICE    2.0\n",
      "IMPORTANT  MEANINGFUL    2.0\n",
      "IMPORTANT        LIFE    2.0\n",
      "IMPORTANT        KNOW    2.0\n",
      "IMPORTANT      FAMILY    2.0\n",
      "IMPORTANT      PEOPLE    2.0\n"
     ]
    }
   ],
   "source": [
    "csv_file_path_org = \"cue_dataset.csv\"\n",
    "df_org = pd.read_csv(csv_file_path_org)\n",
    "bond_df = df_org[df_org['Cues'] == 'IMPORTANT']\n",
    "bond_filtered = bond_df[['Cues', 'Targets', '# Subjects Producing Target ']]\n",
    "bond_filtered = bond_filtered.rename(columns={'# Subjects Producing Target ': 'Count'})\n",
    "bond_filtered_sorted = bond_filtered.sort_values(by='Count', ascending=False)\n",
    "\n",
    "print(bond_filtered_sorted.to_string(index=False))"
   ]
  },
  {
   "cell_type": "code",
   "execution_count": 8,
   "id": "0a77151c",
   "metadata": {},
   "outputs": [
    {
     "name": "stdout",
     "output_type": "stream",
     "text": [
      "1486\n"
     ]
    }
   ],
   "source": [
    "cues_counts_org = df_org['Cues'].count()\n",
    "print(cues_counts_org)"
   ]
  },
  {
   "cell_type": "code",
   "execution_count": 9,
   "id": "f0d58917",
   "metadata": {},
   "outputs": [
    {
     "data": {
      "text/html": [
       "<div>\n",
       "<style scoped>\n",
       "    .dataframe tbody tr th:only-of-type {\n",
       "        vertical-align: middle;\n",
       "    }\n",
       "\n",
       "    .dataframe tbody tr th {\n",
       "        vertical-align: top;\n",
       "    }\n",
       "\n",
       "    .dataframe thead th {\n",
       "        text-align: right;\n",
       "    }\n",
       "</style>\n",
       "<table border=\"1\" class=\"dataframe\">\n",
       "  <thead>\n",
       "    <tr style=\"text-align: right;\">\n",
       "      <th></th>\n",
       "      <th>Unnamed: 0</th>\n",
       "      <th>Cues</th>\n",
       "      <th>Targets</th>\n",
       "      <th>Target Normed?</th>\n",
       "      <th>Sample Size</th>\n",
       "      <th># Subjects Producing Target</th>\n",
       "      <th>Forward Strength</th>\n",
       "      <th>Backward Strength</th>\n",
       "      <th>Mediated Strength</th>\n",
       "      <th># Mediated Associates</th>\n",
       "      <th>...</th>\n",
       "      <th>Target Frequency (K&amp;F)</th>\n",
       "      <th>Target Concreteness(Scale 1-7)</th>\n",
       "      <th>Target Homograph? (Letter=Yes)</th>\n",
       "      <th>Target Part of Speech</th>\n",
       "      <th>Mean Target Connectivity</th>\n",
       "      <th>Target Connectivity Strength</th>\n",
       "      <th>Target Resonance Probability</th>\n",
       "      <th>Target Resonance Strength</th>\n",
       "      <th># of Other Associate Links to Target</th>\n",
       "      <th>Strength of Other Associate Links to Target</th>\n",
       "    </tr>\n",
       "  </thead>\n",
       "  <tbody>\n",
       "    <tr>\n",
       "      <th>0</th>\n",
       "      <td>51</td>\n",
       "      <td>ABILITY</td>\n",
       "      <td>ABLE</td>\n",
       "      <td>YES</td>\n",
       "      <td>143.0</td>\n",
       "      <td>11.0</td>\n",
       "      <td>0.077</td>\n",
       "      <td>0.014</td>\n",
       "      <td>0.028</td>\n",
       "      <td>4.0</td>\n",
       "      <td>...</td>\n",
       "      <td>216</td>\n",
       "      <td>2.91</td>\n",
       "      <td>NaN</td>\n",
       "      <td>AJ</td>\n",
       "      <td>missing</td>\n",
       "      <td>missing</td>\n",
       "      <td>missing</td>\n",
       "      <td>missing</td>\n",
       "      <td>missing</td>\n",
       "      <td>missing</td>\n",
       "    </tr>\n",
       "    <tr>\n",
       "      <th>1</th>\n",
       "      <td>52</td>\n",
       "      <td>ABILITY</td>\n",
       "      <td>ATHLETE</td>\n",
       "      <td>YES</td>\n",
       "      <td>143.0</td>\n",
       "      <td>2.0</td>\n",
       "      <td>0.014</td>\n",
       "      <td>0</td>\n",
       "      <td>0.001</td>\n",
       "      <td>1.0</td>\n",
       "      <td>...</td>\n",
       "      <td>9</td>\n",
       "      <td>missing</td>\n",
       "      <td>NaN</td>\n",
       "      <td>N</td>\n",
       "      <td>1.82</td>\n",
       "      <td>2.53</td>\n",
       "      <td>0.24</td>\n",
       "      <td>1.27</td>\n",
       "      <td>missing</td>\n",
       "      <td>missing</td>\n",
       "    </tr>\n",
       "    <tr>\n",
       "      <th>2</th>\n",
       "      <td>53</td>\n",
       "      <td>ABILITY</td>\n",
       "      <td>CAN</td>\n",
       "      <td>YES</td>\n",
       "      <td>143.0</td>\n",
       "      <td>2.0</td>\n",
       "      <td>0.014</td>\n",
       "      <td>0</td>\n",
       "      <td>0.015</td>\n",
       "      <td>1.0</td>\n",
       "      <td>...</td>\n",
       "      <td>1772</td>\n",
       "      <td>3.61</td>\n",
       "      <td>N</td>\n",
       "      <td>V</td>\n",
       "      <td>1.95</td>\n",
       "      <td>4.43</td>\n",
       "      <td>0.58</td>\n",
       "      <td>3.32</td>\n",
       "      <td>missing</td>\n",
       "      <td>missing</td>\n",
       "    </tr>\n",
       "    <tr>\n",
       "      <th>3</th>\n",
       "      <td>54</td>\n",
       "      <td>ABILITY</td>\n",
       "      <td>CAPABILITY</td>\n",
       "      <td>YES</td>\n",
       "      <td>143.0</td>\n",
       "      <td>17.0</td>\n",
       "      <td>0.119</td>\n",
       "      <td>0.282</td>\n",
       "      <td>0.006</td>\n",
       "      <td>3.0</td>\n",
       "      <td>...</td>\n",
       "      <td>14</td>\n",
       "      <td>2.42</td>\n",
       "      <td>NaN</td>\n",
       "      <td>N</td>\n",
       "      <td>1.45</td>\n",
       "      <td>1.57</td>\n",
       "      <td>0.27</td>\n",
       "      <td>1.16</td>\n",
       "      <td>3</td>\n",
       "      <td>0.12</td>\n",
       "    </tr>\n",
       "    <tr>\n",
       "      <th>4</th>\n",
       "      <td>55</td>\n",
       "      <td>ABILITY</td>\n",
       "      <td>CAPACITY</td>\n",
       "      <td>YES</td>\n",
       "      <td>143.0</td>\n",
       "      <td>2.0</td>\n",
       "      <td>0.014</td>\n",
       "      <td>0.086</td>\n",
       "      <td>0.002</td>\n",
       "      <td>2.0</td>\n",
       "      <td>...</td>\n",
       "      <td>83</td>\n",
       "      <td>2.41</td>\n",
       "      <td>NaN</td>\n",
       "      <td>N</td>\n",
       "      <td>1.7</td>\n",
       "      <td>3.71</td>\n",
       "      <td>0.26</td>\n",
       "      <td>1.09</td>\n",
       "      <td>2</td>\n",
       "      <td>0.031</td>\n",
       "    </tr>\n",
       "  </tbody>\n",
       "</table>\n",
       "<p>5 rows × 37 columns</p>\n",
       "</div>"
      ],
      "text/plain": [
       "   Unnamed: 0     Cues     Targets Target Normed?  Sample Size  \\\n",
       "0          51  ABILITY        ABLE            YES        143.0   \n",
       "1          52  ABILITY     ATHLETE            YES        143.0   \n",
       "2          53  ABILITY         CAN            YES        143.0   \n",
       "3          54  ABILITY  CAPABILITY            YES        143.0   \n",
       "4          55  ABILITY    CAPACITY            YES        143.0   \n",
       "\n",
       "   # Subjects Producing Target   Forward Strength Backward Strength  \\\n",
       "0                          11.0             0.077             0.014   \n",
       "1                           2.0             0.014                 0   \n",
       "2                           2.0             0.014                 0   \n",
       "3                          17.0             0.119             0.282   \n",
       "4                           2.0             0.014             0.086   \n",
       "\n",
       "   Mediated Strength  # Mediated Associates  ...  Target Frequency (K&F)  \\\n",
       "0              0.028                    4.0  ...                     216   \n",
       "1              0.001                    1.0  ...                       9   \n",
       "2              0.015                    1.0  ...                    1772   \n",
       "3              0.006                    3.0  ...                      14   \n",
       "4              0.002                    2.0  ...                      83   \n",
       "\n",
       "   Target Concreteness(Scale 1-7)  Target Homograph? (Letter=Yes)  \\\n",
       "0                            2.91                             NaN   \n",
       "1                         missing                             NaN   \n",
       "2                            3.61                               N   \n",
       "3                            2.42                             NaN   \n",
       "4                            2.41                             NaN   \n",
       "\n",
       "   Target Part of Speech  Mean Target Connectivity  \\\n",
       "0                     AJ                   missing   \n",
       "1                      N                      1.82   \n",
       "2                      V                      1.95   \n",
       "3                      N                      1.45   \n",
       "4                      N                       1.7   \n",
       "\n",
       "   Target Connectivity Strength  Target Resonance Probability  \\\n",
       "0                       missing                       missing   \n",
       "1                          2.53                          0.24   \n",
       "2                          4.43                          0.58   \n",
       "3                          1.57                          0.27   \n",
       "4                          3.71                          0.26   \n",
       "\n",
       "  Target Resonance Strength # of Other Associate Links to Target  \\\n",
       "0                   missing                              missing   \n",
       "1                      1.27                              missing   \n",
       "2                      3.32                              missing   \n",
       "3                      1.16                                    3   \n",
       "4                      1.09                                    2   \n",
       "\n",
       "  Strength of Other Associate Links to Target  \n",
       "0                                     missing  \n",
       "1                                     missing  \n",
       "2                                     missing  \n",
       "3                                        0.12  \n",
       "4                                       0.031  \n",
       "\n",
       "[5 rows x 37 columns]"
      ]
     },
     "execution_count": 9,
     "metadata": {},
     "output_type": "execute_result"
    }
   ],
   "source": [
    "df_org.head()"
   ]
  },
  {
   "cell_type": "code",
   "execution_count": 10,
   "id": "331370f0",
   "metadata": {},
   "outputs": [
    {
     "name": "stdout",
     "output_type": "stream",
     "text": [
      "649\n"
     ]
    }
   ],
   "source": [
    "csv_file_path_1 = \"prompt_1_data.csv\"\n",
    "df_1 = pd.read_csv(csv_file_path_1)\n",
    "cues_counts_1 = df_1['Cues'].count()\n",
    "print(cues_counts_1)"
   ]
  },
  {
   "cell_type": "code",
   "execution_count": 11,
   "id": "26b9dc42",
   "metadata": {},
   "outputs": [
    {
     "name": "stdout",
     "output_type": "stream",
     "text": [
      "Top 10 Cues:\n",
      "    Cues  Count\n",
      "   LEVER     17\n",
      "  RECIPE     15\n",
      "   FLUSH     15\n",
      "GRADUATE     14\n",
      "     FIN     14\n",
      "    ROPE     13\n",
      " BAPTIST     12\n",
      "   ANGLE     12\n",
      "    PRIM     12\n",
      "  PENCIL     11\n"
     ]
    }
   ],
   "source": [
    "cues_counts_1 = df_1['Cues'].value_counts().head(10)\n",
    "#print(cues_counts_1)\n",
    "top_10_1 = pd.DataFrame({'Cues': cues_counts_1.index, 'Count': cues_counts_1.values})\n",
    "\n",
    "print(\"Top 10 Cues:\")\n",
    "print(top_10_1.to_string(index=False))"
   ]
  },
  {
   "cell_type": "code",
   "execution_count": 12,
   "id": "3eecfe52",
   "metadata": {},
   "outputs": [
    {
     "name": "stdout",
     "output_type": "stream",
     "text": [
      "605\n"
     ]
    }
   ],
   "source": [
    "csv_file_path_2 = \"prompt_2_data.csv\"\n",
    "df_2 = pd.read_csv(csv_file_path_2)\n",
    "cues_counts_2 = df_2['Cues'].count()\n",
    "print(cues_counts_2)"
   ]
  },
  {
   "cell_type": "code",
   "execution_count": 13,
   "id": "9c55e2b4",
   "metadata": {},
   "outputs": [
    {
     "name": "stdout",
     "output_type": "stream",
     "text": [
      "Top 10 Cues:\n",
      "    Cues  Count\n",
      "    ROPE     21\n",
      " EYEBALL     20\n",
      "     FIN     19\n",
      "    PRIM     18\n",
      "   FLUSH     16\n",
      "GRADUATE     16\n",
      "     SUN     15\n",
      "   HAUNT     15\n",
      "  RECIPE     13\n",
      "   LEVER     12\n"
     ]
    }
   ],
   "source": [
    "cues_counts_2 = df_2['Cues'].value_counts().head(10)\n",
    "#print(cues_counts_1)\n",
    "top_10_2 = pd.DataFrame({'Cues': cues_counts_2.index, 'Count': cues_counts_2.values})\n",
    "\n",
    "print(\"Top 10 Cues:\")\n",
    "print(top_10_2.to_string(index=False))"
   ]
  },
  {
   "cell_type": "code",
   "execution_count": 14,
   "id": "737dee96",
   "metadata": {},
   "outputs": [
    {
     "name": "stdout",
     "output_type": "stream",
     "text": [
      "       Cues  Count\n",
      "       CUSS      2\n",
      "CATERPILLAR      2\n",
      "    OUTCOME      1\n",
      "    CHEDDAR      1\n",
      "    GOODBYE      1\n",
      "       PUKE      1\n",
      "    PIGMENT      1\n",
      "    ACQUIRE      1\n",
      "   SEPARATE      1\n",
      "       LIST      1\n"
     ]
    }
   ],
   "source": [
    "cues_counts = df['Cues'].value_counts().tail(10)\n",
    "last_10_df = pd.DataFrame({'Cues': cues_counts.index, 'Count': cues_counts.values})\n",
    "\n",
    "#print(\"Top 10 Cues:\")\n",
    "print(last_10_df.to_string(index=False))"
   ]
  },
  {
   "cell_type": "code",
   "execution_count": 15,
   "id": "c3b8d450",
   "metadata": {},
   "outputs": [
    {
     "name": "stdout",
     "output_type": "stream",
     "text": [
      "      Cues  Count\n",
      "      PRIM      8\n",
      "      STOP      8\n",
      "   PIGMENT      8\n",
      "     HAUNT      8\n",
      "      KING      8\n",
      "      SHUT      7\n",
      "     CIGAR      7\n",
      "      MINK      7\n",
      "FRIGHTENED      6\n",
      "   CHEDDAR      2\n"
     ]
    }
   ],
   "source": [
    "cues_counts_org = df_org['Cues'].value_counts().tail(10)\n",
    "#print(cues_counts_org)\n",
    "top_10_org = pd.DataFrame({'Cues': cues_counts_org.index, 'Count': cues_counts_org.values})\n",
    "#print(\"Top 10 Cues:\")\n",
    "print(top_10_org.to_string(index=False))"
   ]
  },
  {
   "cell_type": "code",
   "execution_count": 16,
   "id": "285581a9",
   "metadata": {},
   "outputs": [
    {
     "name": "stdout",
     "output_type": "stream",
     "text": [
      "Top 10 Cues:\n",
      "    Cues  Count\n",
      "DECISION      2\n",
      " PIGMENT      2\n",
      " GOODBYE      2\n",
      "    PUKE      2\n",
      " CHEDDAR      2\n",
      "   RURAL      2\n",
      "  PROMPT      1\n",
      "   WORDS      1\n",
      "RESPONSE      1\n",
      "    PLAY      1\n"
     ]
    }
   ],
   "source": [
    "cues_counts_1 = df_1['Cues'].value_counts().tail(10)\n",
    "#print(cues_counts_1)\n",
    "top_10_1 = pd.DataFrame({'Cues': cues_counts_1.index, 'Count': cues_counts_1.values})\n",
    "\n",
    "print(\"Top 10 Cues:\")\n",
    "print(top_10_1.to_string(index=False))"
   ]
  },
  {
   "cell_type": "code",
   "execution_count": 17,
   "id": "8e8c56e7",
   "metadata": {},
   "outputs": [
    {
     "name": "stdout",
     "output_type": "stream",
     "text": [
      "Top 10 Cues:\n",
      "    Cues  Count\n",
      "    SHUT      2\n",
      "DECISION      1\n",
      " OUTCOME      1\n",
      " ACQUIRE      1\n",
      "NEIGHBOR      1\n",
      " POPCORN      1\n",
      "    PUKE      1\n",
      " GOODBYE      1\n",
      "SEPARATE      1\n",
      "  POPORN      1\n"
     ]
    }
   ],
   "source": [
    "cues_counts_2 = df_2['Cues'].value_counts().tail(10)\n",
    "#print(cues_counts_1)\n",
    "top_10_2 = pd.DataFrame({'Cues': cues_counts_2.index, 'Count': cues_counts_2.values})\n",
    "\n",
    "print(\"Top 10 Cues:\")\n",
    "print(top_10_2.to_string(index=False))"
   ]
  },
  {
   "cell_type": "code",
   "execution_count": 18,
   "id": "567976b5",
   "metadata": {},
   "outputs": [],
   "source": [
    "import numpy as np\n",
    "from scipy.stats import pearsonr\n",
    "from sklearn.linear_model import LinearRegression\n"
   ]
  },
  {
   "cell_type": "code",
   "execution_count": 19,
   "id": "7b97c103",
   "metadata": {},
   "outputs": [],
   "source": [
    "from scipy.stats import pearsonr\n",
    "\n",
    "csv_file_path_merg = \"Merg_org_0.csv\"\n",
    "df_merg = pd.read_csv(csv_file_path_merg)\n",
    "\n",
    "\n"
   ]
  },
  {
   "cell_type": "code",
   "execution_count": 20,
   "id": "ca53bf05",
   "metadata": {},
   "outputs": [
    {
     "name": "stdout",
     "output_type": "stream",
     "text": [
      "Chi-square Statistic: 157644.40414263125\n",
      "P-value: 1.1712395160376458e-132\n"
     ]
    }
   ],
   "source": [
    "from scipy.stats import chi2_contingency\n",
    "\n",
    "# Assuming 'Cues' and 'Targets' are the columns you want to test\n",
    "observed_table = pd.crosstab(df_merg['Cues'], df_merg['Targets'])\n",
    "\n",
    "# Perform chi-square test for independence\n",
    "chi2_stat, p_value, dof, expected_table = chi2_contingency(observed_table)\n",
    "\n",
    "print(\"Chi-square Statistic:\", chi2_stat)\n",
    "print(\"P-value:\", p_value)"
   ]
  },
  {
   "cell_type": "code",
   "execution_count": 21,
   "id": "0bec0c3a",
   "metadata": {},
   "outputs": [],
   "source": [
    "#Calculate descriptive statistics for both datasets separately. \n",
    "#This could include measures such as mean, median, variance, etc., for both the 'Cues' and 'Targets' columns."
   ]
  },
  {
   "cell_type": "code",
   "execution_count": 22,
   "id": "bd9d00af",
   "metadata": {},
   "outputs": [],
   "source": [
    "import pandas as pd\n",
    "from sklearn.cluster import KMeans\n",
    "from sklearn.preprocessing import StandardScaler\n",
    "import matplotlib.pyplot as plt\n"
   ]
  },
  {
   "cell_type": "code",
   "execution_count": 23,
   "id": "5d205333",
   "metadata": {},
   "outputs": [
    {
     "name": "stdout",
     "output_type": "stream",
     "text": [
      "-0.563257065948856\n"
     ]
    }
   ],
   "source": [
    "#print(649/1486-1)"
   ]
  },
  {
   "cell_type": "code",
   "execution_count": 53,
   "id": "05482b8a",
   "metadata": {},
   "outputs": [
    {
     "name": "stdout",
     "output_type": "stream",
     "text": [
      "792\n",
      "Top 10 Cues:\n",
      "    Cues  Count\n",
      "DECISION      2\n",
      "    MINK      2\n",
      " PIGMENT      2\n",
      "   STRAP      2\n",
      "  BURIAL      2\n",
      "    CREW      2\n",
      " CHEDDAR      1\n",
      "    PUKE      1\n",
      " GOODBYE      1\n",
      " OUTCOME      1\n"
     ]
    }
   ],
   "source": [
    "import pandas as pd\n",
    "csv_file_path = \"gpt4_prompt_0_data.csv\"\n",
    "df = pd.read_csv(csv_file_path)\n",
    "cues_counts = df['Cues'].value_counts().tail(10)\n",
    "#print(cues_counts)\n",
    "print(df['Cues'].count())\n",
    "top_10_df = pd.DataFrame({'Cues': cues_counts.index, 'Count': cues_counts.values})\n",
    "\n",
    "print(\"Top 10 Cues:\")\n",
    "print(top_10_df.to_string(index=False))"
   ]
  },
  {
   "cell_type": "code",
   "execution_count": 54,
   "id": "be9fb2f7",
   "metadata": {},
   "outputs": [
    {
     "name": "stdout",
     "output_type": "stream",
     "text": [
      "Cues      Targets  Count\n",
      "BOND   CONNECTION     32\n",
      "BOND RELATIONSHIP     10\n",
      "BOND        UNITY      9\n",
      "BOND          TIE      7\n",
      "BOND         LINK      5\n",
      "BOND     RELATION      4\n",
      "BOND     ALLIANCE      4\n",
      "BOND         TIES      3\n",
      "BOND      CONNECT      3\n",
      "BOND     CONTRACT      2\n",
      "BOND    AGREEMENT      2\n",
      "BOND        UNITE      1\n",
      "BOND  PARTNERSHIP      1\n",
      "BOND         ALLY      1\n",
      "BOND   COMMITMENT      1\n",
      "BOND    BONDSGIRL      1\n",
      "BOND         BIND      1\n",
      "BOND        TRUST      1\n",
      "BOND        BOUND      1\n",
      "BOND      BINDING      1\n",
      "BOND   FRIENDSHIP      1\n",
      "BOND        JAMES      1\n",
      "BOND        AGENT      1\n",
      "BOND   PARLINGTON      1\n",
      "BOND        UNION      1\n"
     ]
    }
   ],
   "source": [
    "bond_df = df[df['Cues'] == 'BOND']\n",
    "bond_filtered = bond_df[['Cues', 'Targets', 'Count']]\n",
    "#bond_filtered = bond_filtered.rename(columns={'# Subjects Producing Target ': 'Count'})\n",
    "bond_filtered_sorted = bond_filtered.sort_values(by='Count', ascending=False)\n",
    "\n",
    "print(bond_filtered_sorted.to_string(index=False))"
   ]
  },
  {
   "cell_type": "code",
   "execution_count": 61,
   "id": "ca02cf19",
   "metadata": {},
   "outputs": [
    {
     "name": "stdout",
     "output_type": "stream",
     "text": [
      "      Cues       Targets  Count\n",
      "FRIENDSHIP COMPANIONSHIP     52\n",
      "FRIENDSHIP   COMRADESHIP      9\n",
      "FRIENDSHIP          BOND      7\n",
      "FRIENDSHIP     COMPANION      5\n",
      "FRIENDSHIP   CAMARADERIE      5\n",
      "FRIENDSHIP  RELATIONSHIP      4\n",
      "FRIENDSHIP      ALLIANCE      2\n",
      "FRIENDSHIP       BONDING      2\n",
      "FRIENDSHIP     AFFECTION      1\n",
      "FRIENDSHIP        FRIEND      1\n",
      "FRIENDSHIP      BROMANCE      1\n",
      "FRIENDSHIP    FRIENDSHIP      1\n",
      "FRIENDSHIP         AMITY      1\n",
      "FRIENDSHIP     COMRADERY      1\n",
      "FRIENDSHIP         UNITY      1\n",
      "FRIENDSHIP       LOYALTY      1\n",
      "FRIENDSHIP       COMRADE      1\n"
     ]
    }
   ],
   "source": [
    "csv_file_path = \"gpt4_prompt_0_data.csv\"\n",
    "df = pd.read_csv(csv_file_path)\n",
    "bond_df = df[df['Cues'] == 'FRIENDSHIP']\n",
    "bond_filtered = bond_df[['Cues', 'Targets', 'Count']]\n",
    "#bond_filtered = bond_filtered.rename(columns={'# Subjects Producing Target ': 'Count'})\n",
    "bond_filtered_sorted = bond_filtered.sort_values(by='Count', ascending=False)\n",
    "\n",
    "print(bond_filtered_sorted.to_string(index=False))\n"
   ]
  },
  {
   "cell_type": "code",
   "execution_count": 64,
   "id": "557c8273",
   "metadata": {},
   "outputs": [
    {
     "name": "stdout",
     "output_type": "stream",
     "text": [
      "     Cues      Targets  Count\n",
      "IMPORTANT  SIGNIFICANT     38\n",
      "IMPORTANT      CRUCIAL     27\n",
      "IMPORTANT     CRITICAL     11\n",
      "IMPORTANT     PRIORITY      6\n",
      "IMPORTANT    ESSENTIAL      5\n",
      "IMPORTANT        VITAL      4\n",
      "IMPORTANT     VALUABLE      1\n",
      "IMPORTANT       URGENT      1\n",
      "IMPORTANT     RELEVANT      1\n",
      "IMPORTANT SIGNIFICANCE      1\n"
     ]
    }
   ],
   "source": [
    "csv_file_path = \"gpt4_prompt_0_data.csv\"\n",
    "df = pd.read_csv(csv_file_path)\n",
    "bond_df = df[df['Cues'] == 'IMPORTANT']\n",
    "bond_filtered = bond_df[['Cues', 'Targets', 'Count']]\n",
    "#bond_filtered = bond_filtered.rename(columns={'# Subjects Producing Target ': 'Count'})\n",
    "bond_filtered_sorted = bond_filtered.sort_values(by='Count', ascending=False)\n",
    "\n",
    "print(bond_filtered_sorted.to_string(index=False))\n"
   ]
  },
  {
   "cell_type": "code",
   "execution_count": 55,
   "id": "67e0d0dc",
   "metadata": {},
   "outputs": [
    {
     "name": "stdout",
     "output_type": "stream",
     "text": [
      "697\n",
      "Top 10 Cues:\n",
      "      Cues  Count\n",
      "FRIGHTENED      3\n",
      "   CAUTION      3\n",
      "      MEND      3\n",
      "   ANXIETY      3\n",
      "   GOODBYE      2\n",
      "       JOY      2\n",
      "      MINK      2\n",
      "  DECISION      2\n",
      "   CHEDDAR      1\n",
      "   OUTCOME      1\n"
     ]
    }
   ],
   "source": [
    "csv_file_path = \"gpt4_prompt_1_data.csv\"\n",
    "df = pd.read_csv(csv_file_path)\n",
    "cues_counts = df['Cues'].value_counts().tail(10)\n",
    "#print(cues_counts)\n",
    "print(df['Cues'].count())\n",
    "top_10_df = pd.DataFrame({'Cues': cues_counts.index, 'Count': cues_counts.values})\n",
    "\n",
    "print(\"Top 10 Cues:\")\n",
    "print(top_10_df.to_string(index=False))"
   ]
  },
  {
   "cell_type": "code",
   "execution_count": 62,
   "id": "2bcffd38",
   "metadata": {},
   "outputs": [
    {
     "name": "stdout",
     "output_type": "stream",
     "text": [
      "      Cues        Targets  Count\n",
      "FRIENDSHIP  COMPANIONSHIP     48\n",
      "FRIENDSHIP      COMPANION     13\n",
      "FRIENDSHIP           BOND      7\n",
      "FRIENDSHIP        LOYALTY      5\n",
      "FRIENDSHIP    COMRADESHIP      4\n",
      "FRIENDSHIP    CAMARADERIE      4\n",
      "FRIENDSHIP         FRIEND      3\n",
      "FRIENDSHIP          UNITY      2\n",
      "FRIENDSHIP     FRIENDSHIP      2\n",
      "FRIENDSHIP          AMITY      1\n",
      "FRIENDSHIP   RELATIONSHIP      1\n",
      "FRIENDSHIP COMPANIONSHIP.      1\n",
      "FRIENDSHIP      COMRADERY      1\n",
      "FRIENDSHIP    PARTNERSHIP      1\n",
      "FRIENDSHIP       ALLIANCE      1\n"
     ]
    }
   ],
   "source": [
    "csv_file_path = \"gpt4_prompt_1_data.csv\"\n",
    "df = pd.read_csv(csv_file_path)\n",
    "bond_df = df[df['Cues'] == 'FRIENDSHIP']\n",
    "bond_filtered = bond_df[['Cues', 'Targets', 'Count']]\n",
    "#bond_filtered = bond_filtered.rename(columns={'# Subjects Producing Target ': 'Count'})\n",
    "bond_filtered_sorted = bond_filtered.sort_values(by='Count', ascending=False)\n",
    "\n",
    "print(bond_filtered_sorted.to_string(index=False))"
   ]
  },
  {
   "cell_type": "code",
   "execution_count": 66,
   "id": "5cb61d65",
   "metadata": {},
   "outputs": [
    {
     "name": "stdout",
     "output_type": "stream",
     "text": [
      "     Cues     Targets  Count\n",
      "IMPORTANT SIGNIFICANT     56\n",
      "IMPORTANT     CRUCIAL     25\n",
      "IMPORTANT    CRITICAL      7\n",
      "IMPORTANT   ESSENTIAL      3\n",
      "IMPORTANT       VITAL      1\n",
      "IMPORTANT    PRIORITY      1\n",
      "IMPORTANT      URGENT      1\n"
     ]
    }
   ],
   "source": [
    "csv_file_path = \"gpt4_prompt_1_data.csv\"\n",
    "df = pd.read_csv(csv_file_path)\n",
    "bond_df = df[df['Cues'] == 'IMPORTANT']\n",
    "bond_filtered = bond_df[['Cues', 'Targets', 'Count']]\n",
    "#bond_filtered = bond_filtered.rename(columns={'# Subjects Producing Target ': 'Count'})\n",
    "bond_filtered_sorted = bond_filtered.sort_values(by='Count', ascending=False)\n",
    "\n",
    "print(bond_filtered_sorted.to_string(index=False))"
   ]
  },
  {
   "cell_type": "code",
   "execution_count": 32,
   "id": "748467d7",
   "metadata": {},
   "outputs": [
    {
     "name": "stdout",
     "output_type": "stream",
     "text": [
      "1087\n",
      "Top 10 Cues:\n",
      "    Cues  Count\n",
      "RELIABLE      5\n",
      " CHEDDAR      5\n",
      "   FENCE      5\n",
      "    CREW      5\n",
      "  SECURE      4\n",
      "    MEND      3\n",
      " FACTORY      3\n",
      " GOODBYE      2\n",
      "   ANGLE      1\n",
      " OUTCOME      1\n"
     ]
    }
   ],
   "source": [
    "csv_file_path = \"gpt4_prompt_3_data.csv\"\n",
    "df = pd.read_csv(csv_file_path)\n",
    "cues_counts = df['Cues'].value_counts().tail(10)\n",
    "#print(cues_counts)\n",
    "print(df['Cues'].count())\n",
    "top_10_df = pd.DataFrame({'Cues': cues_counts.index, 'Count': cues_counts.values})\n",
    "\n",
    "print(\"Top 10 Cues:\")\n",
    "print(top_10_df.to_string(index=False))"
   ]
  },
  {
   "cell_type": "code",
   "execution_count": null,
   "id": "2a0282c9",
   "metadata": {},
   "outputs": [],
   "source": []
  },
  {
   "cell_type": "code",
   "execution_count": null,
   "id": "2e761ed5",
   "metadata": {},
   "outputs": [],
   "source": []
  }
 ],
 "metadata": {
  "kernelspec": {
   "display_name": "Python 3 (ipykernel)",
   "language": "python",
   "name": "python3"
  },
  "language_info": {
   "codemirror_mode": {
    "name": "ipython",
    "version": 3
   },
   "file_extension": ".py",
   "mimetype": "text/x-python",
   "name": "python",
   "nbconvert_exporter": "python",
   "pygments_lexer": "ipython3",
   "version": "3.9.12"
  }
 },
 "nbformat": 4,
 "nbformat_minor": 5
}
